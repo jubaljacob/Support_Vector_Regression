{
  "nbformat": 4,
  "nbformat_minor": 0,
  "metadata": {
    "colab": {
      "name": "support_vector_regression.ipynb",
      "provenance": [],
      "collapsed_sections": [],
      "include_colab_link": true
    },
    "kernelspec": {
      "name": "python3",
      "display_name": "Python 3"
    }
  },
  "cells": [
    {
      "cell_type": "markdown",
      "metadata": {
        "id": "view-in-github",
        "colab_type": "text"
      },
      "source": [
        "<a href=\"https://colab.research.google.com/github/jubaljacob/Support_Vector_Regression/blob/main/support_vector_regression.ipynb\" target=\"_parent\"><img src=\"https://colab.research.google.com/assets/colab-badge.svg\" alt=\"Open In Colab\"/></a>"
      ]
    },
    {
      "cell_type": "markdown",
      "metadata": {
        "id": "m3PAEPRDRLA3"
      },
      "source": [
        "# Support Vector Regression (SVR)"
      ]
    },
    {
      "cell_type": "code",
      "source": [
        "import pandas as pd\n",
        "import numpy as np\n",
        "import matplotlib.pyplot as plt"
      ],
      "metadata": {
        "id": "yGCC6DL_crNE"
      },
      "execution_count": 23,
      "outputs": []
    },
    {
      "cell_type": "code",
      "source": [
        "df = pd.read_csv(\"Position_Salaries.csv\")\n",
        "X = df.iloc[:,1:-1].values\n",
        "y = df.iloc[:,-1].values\n",
        "print(X,y)"
      ],
      "metadata": {
        "colab": {
          "base_uri": "https://localhost:8080/"
        },
        "id": "meXm5D1zczxj",
        "outputId": "429c634a-768e-45be-8049-79a7489ce89c"
      },
      "execution_count": 24,
      "outputs": [
        {
          "output_type": "stream",
          "name": "stdout",
          "text": [
            "[[ 1]\n",
            " [ 2]\n",
            " [ 3]\n",
            " [ 4]\n",
            " [ 5]\n",
            " [ 6]\n",
            " [ 7]\n",
            " [ 8]\n",
            " [ 9]\n",
            " [10]] [  45000   50000   60000   80000  110000  150000  200000  300000  500000\n",
            " 1000000]\n"
          ]
        }
      ]
    },
    {
      "cell_type": "markdown",
      "source": [
        "Reshaping y cause it is required for feature scaling"
      ],
      "metadata": {
        "id": "jas-ejVOjfid"
      }
    },
    {
      "cell_type": "code",
      "source": [
        "y = y.reshape(len(y),1)\n",
        "print(y)"
      ],
      "metadata": {
        "colab": {
          "base_uri": "https://localhost:8080/"
        },
        "id": "9uKjtNmSfCmQ",
        "outputId": "feebbbee-b7b5-4af5-fd19-9079dcdb5e54"
      },
      "execution_count": 25,
      "outputs": [
        {
          "output_type": "stream",
          "name": "stdout",
          "text": [
            "[[  45000]\n",
            " [  50000]\n",
            " [  60000]\n",
            " [  80000]\n",
            " [ 110000]\n",
            " [ 150000]\n",
            " [ 200000]\n",
            " [ 300000]\n",
            " [ 500000]\n",
            " [1000000]]\n"
          ]
        }
      ]
    },
    {
      "cell_type": "code",
      "source": [
        "from sklearn.preprocessing import StandardScaler\n",
        "sc_X = StandardScaler()\n",
        "sc_y = StandardScaler()\n",
        "X = sc_X.fit_transform(X)\n",
        "y = sc_y.fit_transform(y)\n",
        "print(X)"
      ],
      "metadata": {
        "colab": {
          "base_uri": "https://localhost:8080/"
        },
        "id": "29s7BI8IjlY2",
        "outputId": "3dea6e62-0ce2-4c07-a889-11524f9a6117"
      },
      "execution_count": 26,
      "outputs": [
        {
          "output_type": "stream",
          "name": "stdout",
          "text": [
            "[[-1.5666989 ]\n",
            " [-1.21854359]\n",
            " [-0.87038828]\n",
            " [-0.52223297]\n",
            " [-0.17407766]\n",
            " [ 0.17407766]\n",
            " [ 0.52223297]\n",
            " [ 0.87038828]\n",
            " [ 1.21854359]\n",
            " [ 1.5666989 ]]\n"
          ]
        }
      ]
    },
    {
      "cell_type": "code",
      "source": [
        "print(y)"
      ],
      "metadata": {
        "colab": {
          "base_uri": "https://localhost:8080/"
        },
        "id": "Jx-adlFilOqg",
        "outputId": "91c8acff-6a6f-4a23-b8a5-4855a556c872"
      },
      "execution_count": 27,
      "outputs": [
        {
          "output_type": "stream",
          "name": "stdout",
          "text": [
            "[[-0.72004253]\n",
            " [-0.70243757]\n",
            " [-0.66722767]\n",
            " [-0.59680786]\n",
            " [-0.49117815]\n",
            " [-0.35033854]\n",
            " [-0.17428902]\n",
            " [ 0.17781001]\n",
            " [ 0.88200808]\n",
            " [ 2.64250325]]\n"
          ]
        }
      ]
    },
    {
      "cell_type": "code",
      "source": [
        "# y = y.ravel()\n",
        "# print(y)............. if needed to changed scaed 2-D y data into 1-D"
      ],
      "metadata": {
        "colab": {
          "base_uri": "https://localhost:8080/"
        },
        "id": "O2FVOzLxu-LO",
        "outputId": "425f6b55-8d7a-476b-fa2f-40e77f55489c"
      },
      "execution_count": 17,
      "outputs": [
        {
          "output_type": "stream",
          "name": "stdout",
          "text": [
            "[-0.72004253 -0.70243757 -0.66722767 -0.59680786 -0.49117815 -0.35033854\n",
            " -0.17428902  0.17781001  0.88200808  2.64250325]\n"
          ]
        }
      ]
    },
    {
      "cell_type": "code",
      "source": [
        "from sklearn.svm import SVR\n",
        "regressor = SVR(kernel = 'rbf')\n",
        "regressor.fit(X,y)"
      ],
      "metadata": {
        "colab": {
          "base_uri": "https://localhost:8080/"
        },
        "id": "RerpclOflSu1",
        "outputId": "84ac6810-1208-4b10-e799-989101966c45"
      },
      "execution_count": 56,
      "outputs": [
        {
          "output_type": "stream",
          "name": "stderr",
          "text": [
            "/usr/local/lib/python3.7/dist-packages/sklearn/utils/validation.py:993: DataConversionWarning: A column-vector y was passed when a 1d array was expected. Please change the shape of y to (n_samples, ), for example using ravel().\n",
            "  y = column_or_1d(y, warn=True)\n"
          ]
        },
        {
          "output_type": "execute_result",
          "data": {
            "text/plain": [
              "SVR()"
            ]
          },
          "metadata": {},
          "execution_count": 56
        }
      ]
    },
    {
      "cell_type": "markdown",
      "source": [
        "# Predict New Result"
      ],
      "metadata": {
        "id": "hbQdvBf1v_m4"
      }
    },
    {
      "cell_type": "markdown",
      "source": [
        "Inverse transformation"
      ],
      "metadata": {
        "id": "VTrxJIHIvZaV"
      }
    },
    {
      "cell_type": "code",
      "source": [
        "sc_y.inverse_transform([regressor.predict(sc_X.transform([[6.5]]))]) \n",
        "\n",
        "# since .predict returns a 1-D array [] is needed in inverse_transform() to make the result of the prediction \n",
        "# into a 2-D array "
      ],
      "metadata": {
        "colab": {
          "base_uri": "https://localhost:8080/"
        },
        "id": "gWy7cD3PzmIj",
        "outputId": "e56e4387-e411-4e50-d323-8690ff2e005e"
      },
      "execution_count": 57,
      "outputs": [
        {
          "output_type": "execute_result",
          "data": {
            "text/plain": [
              "array([[170370.0204065]])"
            ]
          },
          "metadata": {},
          "execution_count": 57
        }
      ]
    },
    {
      "cell_type": "code",
      "source": [
        "# y_scaled_pred = regressor.predict(sc_X.transform([[6.5]]))\n",
        "# print(y_scaled_pred)"
      ],
      "metadata": {
        "id": "JVkV0pMHuLvt"
      },
      "execution_count": null,
      "outputs": []
    },
    {
      "cell_type": "code",
      "metadata": {
        "id": "ib89-Fq8R8v-"
      },
      "source": [
        "# sc_y.inverse_transform([y_scaled_pred])"
      ],
      "execution_count": null,
      "outputs": []
    },
    {
      "cell_type": "code",
      "source": [
        "# sc_y.inverse_transform([regressor.predict(sc_X.transform([[6.5]]))])"
      ],
      "metadata": {
        "id": "dKUwFSPDwGwz"
      },
      "execution_count": null,
      "outputs": []
    },
    {
      "cell_type": "markdown",
      "source": [
        "**Visualising SVR Results**"
      ],
      "metadata": {
        "id": "wBF97eKU0qBg"
      }
    },
    {
      "cell_type": "code",
      "source": [
        "plt.scatter(sc_X.inverse_transform(X),sc_y.inverse_transform(y), color = \"red\")\n",
        "plt.plot(sc_X.inverse_transform(X), sc_y.inverse_transform([regressor.predict(X)]).reshape(10,1), color = \"blue\" )\n",
        "plt.title(\"SVM model\")\n",
        "plt.show()\n",
        "\n",
        "#reshae(10,1) used for y in plotting is because x and y must have same first dimension, but have \n",
        "#shapes (10, 1) and (1, 10) . thus reshape(10,1) is used to reshape y"
      ],
      "metadata": {
        "colab": {
          "base_uri": "https://localhost:8080/",
          "height": 281
        },
        "id": "A-3SzIEBzhN0",
        "outputId": "038373ff-088c-49e1-e1ae-ea18adcd5bd5"
      },
      "execution_count": 58,
      "outputs": [
        {
          "output_type": "display_data",
          "data": {
            "image/png": "[encoded data removed]",
            "text/plain": [
              "<Figure size 432x288 with 1 Axes>"
            ]
          },
          "metadata": {
            "needs_background": "light"
          }
        }
      ]
    },
    {
      "cell_type": "markdown",
      "source": [
        "SVR Results(Higher Resolution)"
      ],
      "metadata": {
        "id": "2lUCIuIU6849"
      }
    },
    {
      "cell_type": "code",
      "source": [
        "X_grid = np.arange(min(sc_X.inverse_transform(X)),max(sc_X.inverse_transform(X)),0.1)\n",
        "X_grid = X_grid.reshape((len(X_grid),1))\n",
        "plt.scatter(sc_X.inverse_transform(X),sc_y.inverse_transform(y), color = \"red\")\n",
        "plt.plot(X_grid , sc_y.inverse_transform([regressor.predict(sc_X.transform(X_grid))]).reshape(90,1), color = \"blue\" )\n",
        "plt.title(\"SVM model(HR)\")\n",
        "plt.show()"
      ],
      "metadata": {
        "colab": {
          "base_uri": "https://localhost:8080/",
          "height": 281
        },
        "id": "qPXcjuFE5QXw",
        "outputId": "3b247bd6-8634-4b78-ea9a-9e7b2cb24bed"
      },
      "execution_count": 64,
      "outputs": [
        {
          "output_type": "display_data",
          "data": {
            "image/png": "[encoded data removed]",
            "text/plain": [
              "<Figure size 432x288 with 1 Axes>"
            ]
          },
          "metadata": {
            "needs_background": "light"
          }
        }
      ]
    },
    {
      "cell_type": "code",
      "source": [
        ""
      ],
      "metadata": {
        "id": "oZJQHrIn7it5"
      },
      "execution_count": null,
      "outputs": []
    }
  ]
}